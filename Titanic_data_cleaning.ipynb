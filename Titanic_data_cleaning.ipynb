{
  "nbformat": 4,
  "nbformat_minor": 0,
  "metadata": {
    "colab": {
      "provenance": []
    },
    "kernelspec": {
      "name": "python3",
      "display_name": "Python 3"
    },
    "language_info": {
      "name": "python"
    }
  },
  "cells": [
    {
      "cell_type": "code",
      "execution_count": null,
      "metadata": {
        "id": "dTIB6OeQHmQe"
      },
      "outputs": [],
      "source": [
        "import pandas as pd\n",
        "import numpy as np\n",
        "import matplotlib as plt\n",
        "import seaborn as sns"
      ]
    },
    {
      "cell_type": "code",
      "source": [
        "titanic = pd.read_csv('/content/Titanic.csv')"
      ],
      "metadata": {
        "id": "ZQfTJD_mIIz0"
      },
      "execution_count": null,
      "outputs": []
    },
    {
      "cell_type": "code",
      "source": [
        "print(titanic.head())"
      ],
      "metadata": {
        "colab": {
          "base_uri": "https://localhost:8080/"
        },
        "id": "r4gGkhHDIY7g",
        "outputId": "c251ee9d-b366-4a2e-a188-34f155abab00"
      },
      "execution_count": null,
      "outputs": [
        {
          "output_type": "stream",
          "name": "stdout",
          "text": [
            "   PassengerId  Survived  Pclass(Ticket class)  \\\n",
            "0            1  Deceased                     3   \n",
            "1            2  Survived                     1   \n",
            "2            3  Survived                     3   \n",
            "3            4  Survived                     1   \n",
            "4            5  Deceased                     3   \n",
            "\n",
            "                                                Name     Sex   Age  \\\n",
            "0                            Braund, Mr. Owen Harris    Male  22.0   \n",
            "1  Cumings, Mrs. John Bradley (Florence Briggs Th...  Female  38.0   \n",
            "2                             Heikkinen, Miss. Laina  Female  26.0   \n",
            "3       Futrelle, Mrs. Jacques Heath (Lily May Peel)  Female  35.0   \n",
            "4                           Allen, Mr. William Henry    Male  35.0   \n",
            "\n",
            "   SibSp(# of siblings / spouses aboard the Titanic)  \\\n",
            "0                                                  1   \n",
            "1                                                  1   \n",
            "2                                                  0   \n",
            "3                                                  1   \n",
            "4                                                  0   \n",
            "\n",
            "   Parch (# of parents / children aboard the Titanic) Ticket(Ticket number)  \\\n",
            "0                                                  0              A/5 21171   \n",
            "1                                                  0               PC 17599   \n",
            "2                                                  0       STON/O2. 3101282   \n",
            "3                                                  0                 113803   \n",
            "4                                                  0                 373450   \n",
            "\n",
            "      Fare     Embarked  \n",
            "0   7.2500  Southampton  \n",
            "1  71.2833    Cherbourg  \n",
            "2   7.9250  Southampton  \n",
            "3  53.1000  Southampton  \n",
            "4   8.0500  Southampton  \n"
          ]
        }
      ]
    },
    {
      "cell_type": "code",
      "source": [
        "#repalce values in a column\n",
        "titanic[\"Sex\"] = titanic[\"Sex\"].replace({\"male\": \"Male\", \"female\": \"Female\"})"
      ],
      "metadata": {
        "colab": {
          "base_uri": "https://localhost:8080/"
        },
        "id": "2xJocGvvJLi3",
        "outputId": "31fb7655-721e-4422-9b80-310e15792fef"
      },
      "execution_count": null,
      "outputs": [
        {
          "output_type": "stream",
          "name": "stdout",
          "text": [
            "   PassengerId  Survived  Pclass(Ticket class)  \\\n",
            "0            1         0                     3   \n",
            "1            2         1                     1   \n",
            "2            3         1                     3   \n",
            "3            4         1                     1   \n",
            "4            5         0                     3   \n",
            "\n",
            "                                                Name     Sex   Age  \\\n",
            "0                            Braund, Mr. Owen Harris    Male  22.0   \n",
            "1  Cumings, Mrs. John Bradley (Florence Briggs Th...  Female  38.0   \n",
            "2                             Heikkinen, Miss. Laina  Female  26.0   \n",
            "3       Futrelle, Mrs. Jacques Heath (Lily May Peel)  Female  35.0   \n",
            "4                           Allen, Mr. William Henry    Male  35.0   \n",
            "\n",
            "   SibSp(# of siblings / spouses aboard the Titanic)  \\\n",
            "0                                                  1   \n",
            "1                                                  1   \n",
            "2                                                  0   \n",
            "3                                                  1   \n",
            "4                                                  0   \n",
            "\n",
            "   Parch (# of parents / children aboard the Titanic) Ticket(Ticket number)  \\\n",
            "0                                                  0              A/5 21171   \n",
            "1                                                  0               PC 17599   \n",
            "2                                                  0       STON/O2. 3101282   \n",
            "3                                                  0                 113803   \n",
            "4                                                  0                 373450   \n",
            "\n",
            "      Fare Cabin Embarked  \n",
            "0   7.2500   NaN        S  \n",
            "1  71.2833   C85        C  \n",
            "2   7.9250   NaN        S  \n",
            "3  53.1000  C123        S  \n",
            "4   8.0500   NaN        S  \n"
          ]
        }
      ]
    },
    {
      "cell_type": "code",
      "source": [
        "#drop a Column\n",
        "titanic=titanic.drop(columns=['Cabin'])"
      ],
      "metadata": {
        "id": "r6qYGy_xNQle"
      },
      "execution_count": null,
      "outputs": []
    },
    {
      "cell_type": "code",
      "source": [
        "# check null values\n",
        "print(titanic.isnull().sum())"
      ],
      "metadata": {
        "colab": {
          "base_uri": "https://localhost:8080/"
        },
        "id": "87W8iZPmQf81",
        "outputId": "95ef3505-c145-4047-a35f-e01ab7bb3fa6"
      },
      "execution_count": null,
      "outputs": [
        {
          "output_type": "stream",
          "name": "stdout",
          "text": [
            "PassengerId                                           0\n",
            "Survived                                              0\n",
            "Pclass(Ticket class)                                  0\n",
            "Name                                                  0\n",
            "Sex                                                   0\n",
            "Age                                                   0\n",
            "SibSp(# of siblings / spouses aboard the Titanic)     0\n",
            "Parch (# of parents / children aboard the Titanic)    0\n",
            "Ticket(Ticket number)                                 0\n",
            "Fare                                                  0\n",
            "Embarked                                              0\n",
            "dtype: int64\n"
          ]
        }
      ]
    },
    {
      "cell_type": "code",
      "source": [
        "titanic[\"Survived\"]=titanic[\"Survived\"].replace({0:\"Deceased\",1:\"Survived\"})"
      ],
      "metadata": {
        "id": "W1KFZ80BQ54c"
      },
      "execution_count": null,
      "outputs": []
    },
    {
      "cell_type": "code",
      "source": [
        "titanic[\"Embarked\"]=titanic[\"Embarked\"].replace({\"S\":\"Southampton\",\"C\":\"Cherbourg\",\"Q\":\"Queenstown\"})"
      ],
      "metadata": {
        "id": "6xzidI6pXI7b"
      },
      "execution_count": null,
      "outputs": []
    },
    {
      "cell_type": "code",
      "source": [
        "#Mean\n",
        "mean=titanic[\"Age\"].mean()"
      ],
      "metadata": {
        "id": "p8WqBBtiYBJl"
      },
      "execution_count": null,
      "outputs": []
    },
    {
      "cell_type": "code",
      "source": [
        "#Fill missing values with mean\n",
        "titanic[\"Age\"]=titanic['Age'].fillna(mean)"
      ],
      "metadata": {
        "id": "hzdl5USSYTHy"
      },
      "execution_count": null,
      "outputs": []
    },
    {
      "cell_type": "code",
      "source": [
        "#Mode\n",
        "titanic[\"Embarked\"].mode()[0]"
      ],
      "metadata": {
        "colab": {
          "base_uri": "https://localhost:8080/",
          "height": 35
        },
        "id": "2wI8WMKcYsg1",
        "outputId": "ebca13fb-46a7-42ba-dd5d-f10bdc46da33"
      },
      "execution_count": null,
      "outputs": [
        {
          "output_type": "execute_result",
          "data": {
            "text/plain": [
              "'Southampton'"
            ],
            "application/vnd.google.colaboratory.intrinsic+json": {
              "type": "string"
            }
          },
          "metadata": {},
          "execution_count": 148
        }
      ]
    },
    {
      "cell_type": "code",
      "source": [
        "#Fill missing values with mode\n",
        "titanic['Embarked']=titanic['Embarked'].fillna(titanic['Embarked'].mode()[0])"
      ],
      "metadata": {
        "id": "4LATtsMPZrSo"
      },
      "execution_count": null,
      "outputs": []
    },
    {
      "cell_type": "code",
      "source": [
        "#Upto 1 decimal place\n",
        "titanic['Age']=titanic[\"Age\"].round(1)"
      ],
      "metadata": {
        "id": "OOkO_OjTgcNN"
      },
      "execution_count": null,
      "outputs": []
    },
    {
      "cell_type": "code",
      "source": [
        "#save changes to original file\n",
        "titanic=titanic.to_csv('/content/Titanic.csv', index=False)"
      ],
      "metadata": {
        "id": "MgxtWlQqZ6TR"
      },
      "execution_count": null,
      "outputs": []
    },
    {
      "cell_type": "code",
      "source": [
        "titanic = pd.read_csv('/content/Titanic.csv')\n",
        "print(titanic.head())"
      ],
      "metadata": {
        "colab": {
          "base_uri": "https://localhost:8080/"
        },
        "id": "K794b9d_aArK",
        "outputId": "b74e4fd9-a73e-4e6a-8661-d6a85421b30e"
      },
      "execution_count": null,
      "outputs": [
        {
          "output_type": "stream",
          "name": "stdout",
          "text": [
            "   PassengerId  Survived  Pclass(Ticket class)  \\\n",
            "0            1  Deceased                     3   \n",
            "1            2  Survived                     1   \n",
            "2            3  Survived                     3   \n",
            "3            4  Survived                     1   \n",
            "4            5  Deceased                     3   \n",
            "\n",
            "                                                Name     Sex   Age  \\\n",
            "0                            Braund, Mr. Owen Harris    Male  22.0   \n",
            "1  Cumings, Mrs. John Bradley (Florence Briggs Th...  Female  38.0   \n",
            "2                             Heikkinen, Miss. Laina  Female  26.0   \n",
            "3       Futrelle, Mrs. Jacques Heath (Lily May Peel)  Female  35.0   \n",
            "4                           Allen, Mr. William Henry    Male  35.0   \n",
            "\n",
            "   SibSp(# of siblings / spouses aboard the Titanic)  \\\n",
            "0                                                  1   \n",
            "1                                                  1   \n",
            "2                                                  0   \n",
            "3                                                  1   \n",
            "4                                                  0   \n",
            "\n",
            "   Parch (# of parents / children aboard the Titanic) Ticket(Ticket number)  \\\n",
            "0                                                  0              A/5 21171   \n",
            "1                                                  0               PC 17599   \n",
            "2                                                  0       STON/O2. 3101282   \n",
            "3                                                  0                 113803   \n",
            "4                                                  0                 373450   \n",
            "\n",
            "      Fare     Embarked  \n",
            "0   7.2500  Southampton  \n",
            "1  71.2833    Cherbourg  \n",
            "2   7.9250  Southampton  \n",
            "3  53.1000  Southampton  \n",
            "4   8.0500  Southampton  \n"
          ]
        }
      ]
    }
  ]
}